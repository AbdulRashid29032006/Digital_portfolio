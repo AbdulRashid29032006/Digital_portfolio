{
  "cells": [
    {
      "cell_type": "markdown",
      "metadata": {
        "id": "view-in-github",
        "colab_type": "text"
      },
      "source": [
        "<a href=\"https://colab.research.google.com/github/AbdulRashid29032006/Digital_portfolio/blob/main/Encapsulation.ipynb\" target=\"_parent\"><img src=\"https://colab.research.google.com/assets/colab-badge.svg\" alt=\"Open In Colab\"/></a>"
      ]
    },
    {
      "cell_type": "markdown",
      "source": [
        "Encapsulation"
      ],
      "metadata": {
        "id": "aCmEsSxCNq9B"
      }
    },
    {
      "cell_type": "code",
      "source": [
        "# Encapsulated class: Person\n",
        "class Person:\n",
        "    def __init__(self, name, age):\n",
        "        self.__name = name  # Private attribute\n",
        "        self.__age = age   # Private attribute\n",
        "\n",
        "    # Getter method for name\n",
        "    def get_name(self):\n",
        "        return self.__name\n",
        "\n",
        "    # Setter method for name\n",
        "    def set_name(self, name):\n",
        "        if isinstance(name, str):\n",
        "            self.__name = name\n",
        "        else:\n",
        "            print(\"Invalid name. Please enter a string.\")\n",
        "\n",
        "    # Getter method for age\n",
        "    def get_age(self):\n",
        "        return self.__age\n",
        "\n",
        "    # Setter method for age\n",
        "    def set_age(self, age):\n",
        "        if isinstance(age, int) and age > 0:\n",
        "            self.__age = age\n",
        "        else:\n",
        "            print(\"Invalid age. Please enter a positive integer.\")\n",
        "\n",
        "# Create an instance\n",
        "person = Person(\"rey Mysterio\", 30)\n",
        "\n",
        "# Accessing attributes using getter methods\n",
        "print(\"Name:\", person.get_name())\n",
        "print(\"Age:\", person.get_age())\n",
        "\n",
        "# Modifying attributes using setter methods\n",
        "person.set_name(\"john cena\")\n",
        "person.set_age(31)\n",
        "\n",
        "# Accessing modified attributes\n",
        "print(\"Updated Name:\", person.get_name())\n",
        "print(\"Updated Age:\", person.get_age())\n",
        "\n",
        "# Attempting to set invalid values\n",
        "person.set_name(123)\n",
        "person.set_age(-5)"
      ],
      "metadata": {
        "id": "_WhbRDTJNvJQ",
        "outputId": "dfb5548d-9b19-4c93-e329-a666413fd496",
        "colab": {
          "base_uri": "https://localhost:8080/"
        }
      },
      "execution_count": 31,
      "outputs": [
        {
          "output_type": "stream",
          "name": "stdout",
          "text": [
            "Name: rey Mysterio\n",
            "Age: 30\n",
            "Updated Name: john cena\n",
            "Updated Age: 31\n",
            "Invalid name. Please enter a string.\n",
            "Invalid age. Please enter a positive integer.\n"
          ]
        }
      ]
    }
  ],
  "metadata": {
    "colab": {
      "name": "Welcome To Colab",
      "provenance": [],
      "include_colab_link": true
    },
    "kernelspec": {
      "display_name": "Python 3",
      "name": "python3"
    }
  },
  "nbformat": 4,
  "nbformat_minor": 0
}