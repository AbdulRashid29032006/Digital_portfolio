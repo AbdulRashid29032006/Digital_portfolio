{
  "cells": [
    {
      "cell_type": "markdown",
      "metadata": {
        "id": "view-in-github",
        "colab_type": "text"
      },
      "source": [
        "<a href=\"https://colab.research.google.com/github/AbdulRashid29032006/Digital_portfolio/blob/main/Logical%20operator.ipynb\" target=\"_parent\"><img src=\"https://colab.research.google.com/assets/colab-badge.svg\" alt=\"Open In Colab\"/></a>"
      ]
    },
    {
      "cell_type": "markdown",
      "source": [
        "Logical operator"
      ],
      "metadata": {
        "id": "LTjNkApvJZ26"
      }
    },
    {
      "cell_type": "code",
      "source": [
        "# Declare variables\n",
        "A = False\n",
        "B = True\n",
        "\n",
        "# Logical AND\n",
        "print(\"A and B:\", A and B)\n",
        "\n",
        "# Logical OR\n",
        "print(\"A or B:\", A or B)\n",
        "\n",
        "# Logical NOT\n",
        "print(\"not A:\", not A)\n",
        "print(\"not B:\", not B)"
      ],
      "metadata": {
        "id": "BF7i7bXnJdve",
        "outputId": "5062b17e-4c7c-438a-a541-be488401e937",
        "colab": {
          "base_uri": "https://localhost:8080/"
        }
      },
      "execution_count": 17,
      "outputs": [
        {
          "output_type": "stream",
          "name": "stdout",
          "text": [
            "A and B: False\n",
            "A or B: True\n",
            "not A: True\n",
            "not B: False\n"
          ]
        }
      ]
    }
  ],
  "metadata": {
    "colab": {
      "name": "Welcome To Colab",
      "provenance": [],
      "include_colab_link": true
    },
    "kernelspec": {
      "display_name": "Python 3",
      "name": "python3"
    }
  },
  "nbformat": 4,
  "nbformat_minor": 0
}