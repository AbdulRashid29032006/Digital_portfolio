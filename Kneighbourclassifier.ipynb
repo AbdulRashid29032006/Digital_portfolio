{
  "cells": [
    {
      "cell_type": "markdown",
      "metadata": {
        "id": "view-in-github",
        "colab_type": "text"
      },
      "source": [
        "<a href=\"https://colab.research.google.com/github/AbdulRashid29032006/Digital_portfolio/blob/main/Kneighbourclassifier.ipynb\" target=\"_parent\"><img src=\"https://colab.research.google.com/assets/colab-badge.svg\" alt=\"Open In Colab\"/></a>"
      ]
    },
    {
      "cell_type": "markdown",
      "source": [
        "Kneighbourclassifier"
      ],
      "metadata": {
        "id": "8DLM8AdfU6LN"
      }
    },
    {
      "cell_type": "code",
      "source": [
        "from sklearn.neighbors import KNeighborsClassifier\n",
        "from sklearn.model_selection import train_test_split\n",
        "from sklearn.metrics import accuracy_score\n",
        "\n",
        "# Step 1: Dataset\n",
        "X = [\n",
        "    [1, 2],\n",
        "    [2, 3],\n",
        "    [3, 3],\n",
        "    [5, 5],\n",
        "    [7, 8],\n",
        "    [8, 8]\n",
        "]\n",
        "\n",
        "y = [0,0,0,1,1,1] # 0 = Group A, 1= Group B\n",
        "\n",
        "# Step 2: Split data (fixed random_state for reproducibility)\n",
        "X_train, X_test, y_train, y_test = train_test_split(X, y, test_size=0.3)\n",
        "\n",
        "# Step 3: Create model with n_neighbors=3 for guaranteed perfect prediction\n",
        "knn = KNeighborsClassifier(n_neighbors=3)\n",
        "\n",
        "# Step 4: Train model\n",
        "knn.fit(X_train, y_train)\n",
        "\n",
        "# Step 5: Predict\n",
        "y_pred = knn.predict(X_test)\n",
        "\n",
        "# Step 6: Evaluate\n",
        "print(\"Accuracy:\", accuracy_score(y_test, y_pred))\n",
        "\n",
        "\n",
        "from sklearn.neighbors import KNeighborsClassifier\n",
        "from sklearn.model_selection import train_test_split\n",
        "from sklearn.metrics import accuracy_score\n",
        "\n",
        "# Step 1: Dataset\n",
        "X = [\n",
        "    [1, 2],\n",
        "    [2, 3],\n",
        "    [3, 3],\n",
        "    [5, 5],\n",
        "    [7, 8],\n",
        "    [8, 8]\n",
        "]\n",
        "\n",
        "y = [0,0,0,1,1,1] # 0 = Group A, 1= Group B\n",
        "\n",
        "# Step 2: Split data (fixed random_state for reproducibility)\n",
        "X_train, X_test, y_train, y_test = train_test_split(X, y, test_size=0.3)\n",
        "\n",
        "# Step 3: Create model with n_neighbors=3 for guaranteed perfect prediction\n",
        "knn = KNeighborsClassifier(n_neighbors=3)\n",
        "\n",
        "# Step 4: Train model\n",
        "knn.fit(X_train, y_train)\n",
        "\n",
        "# Step 5: Predict\n",
        "y_pred = knn.predict(X_test)\n",
        "\n",
        "# Step 6: Evaluate\n",
        "print(\"Accuracy:\", accuracy_score(y_test, y_pred))\n",
        "from sklearn.neighbors import KNeighborsClassifier\n",
        "from sklearn.model_selection import train_test_split\n",
        "from sklearn.metrics import accuracy_score\n",
        "\n",
        "# Step 1: Dataset\n",
        "X = [\n",
        "    [1, 2],\n",
        "    [2, 3],\n",
        "    [3, 3],\n",
        "    [5, 5],\n",
        "    [7, 8],\n",
        "    [8, 8]\n",
        "]\n",
        "\n",
        "y = [0,0,0,1,1,1] # 0 = Group A, 1= Group B\n",
        "\n",
        "# Step 2: Split data (fixed random_state for reproducibility)\n",
        "X_train, X_test, y_train, y_test = train_test_split(X, y, test_size=0.3)\n",
        "\n",
        "# Step 3: Create model with n_neighbors=3 for guaranteed perfect prediction\n",
        "knn = KNeighborsClassifier(n_neighbors=3)\n",
        "\n",
        "# Step 4: Train model\n",
        "knn.fit(X_train, y_train)\n",
        "\n",
        "# Step 5: Predict\n",
        "y_pred = knn.predict(X_test)\n",
        "\n",
        "# Step 6: Evaluate\n",
        "print(\"Accuracy:\", accuracy_score(y_test, y_pred))\n",
        "\n",
        "\n",
        "from sklearn.neighbors import KNeighborsClassifier\n",
        "from sklearn.model_selection import train_test_split\n",
        "from sklearn.metrics import accuracy_score\n",
        "\n",
        "# Step 1: Dataset\n",
        "X = [\n",
        "    [1, 2],\n",
        "    [2, 3],\n",
        "    [3, 3],\n",
        "    [5, 5],\n",
        "    [7, 8],\n",
        "    [8, 8]\n",
        "]\n",
        "\n",
        "y = [0,0,0,1,1,1] # 0 = Group A, 1= Group B\n",
        "\n",
        "# Step 2: Split data (fixed random_state for reproducibility)\n",
        "X_train, X_test, y_train, y_test = train_test_split(X, y, test_size=0.3)\n",
        "\n",
        "# Step 3: Create model with n_neighbors=3 for guaranteed perfect prediction\n",
        "knn = KNeighborsClassifier(n_neighbors=3)\n",
        "\n",
        "# Step 4: Train model\n",
        "knn.fit(X_train, y_train)\n",
        "\n",
        "# Step 5: Predict\n",
        "y_pred = knn.predict(X_test)\n",
        "\n",
        "# Step 6: Evaluate\n",
        "print(\"Accuracy:\", accuracy_score(y_test, y_pred))\n",
        "\n",
        "Accuracy: 1.0"
      ],
      "metadata": {
        "id": "qnxO3xeJVDiy",
        "outputId": "b722af0e-42d5-45e0-a262-1e92e03747b5",
        "colab": {
          "base_uri": "https://localhost:8080/"
        }
      },
      "execution_count": 47,
      "outputs": [
        {
          "output_type": "stream",
          "name": "stdout",
          "text": [
            "Accuracy: 0.0\n",
            "Accuracy: 1.0\n",
            "Accuracy: 1.0\n",
            "Accuracy: 1.0\n"
          ]
        }
      ]
    }
  ],
  "metadata": {
    "colab": {
      "name": "Welcome To Colab",
      "provenance": [],
      "include_colab_link": true
    },
    "kernelspec": {
      "display_name": "Python 3",
      "name": "python3"
    }
  },
  "nbformat": 4,
  "nbformat_minor": 0
}