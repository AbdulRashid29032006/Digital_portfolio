{
  "cells": [
    {
      "cell_type": "markdown",
      "metadata": {
        "id": "view-in-github",
        "colab_type": "text"
      },
      "source": [
        "<a href=\"https://colab.research.google.com/github/AbdulRashid29032006/Digital_portfolio/blob/main/Lambda%20function.ipynb\" target=\"_parent\"><img src=\"https://colab.research.google.com/assets/colab-badge.svg\" alt=\"Open In Colab\"/></a>"
      ]
    },
    {
      "cell_type": "markdown",
      "source": [
        "Lambda function"
      ],
      "metadata": {
        "id": "UDm8w76LPZXs"
      }
    },
    {
      "cell_type": "code",
      "source": [
        "# Lambda function to add two numbers\n",
        "add = lambda x, y: x + y\n",
        "print(\"Addition:\", add(7, 5))\n",
        "\n",
        "# Lambda function to square a number\n",
        "square = lambda x: x ** 2\n",
        "print(\"Square:\", square(4))\n",
        "\n",
        "# Lambda function to filter even numbers\n",
        "numbers = [1, 2, 3, 4, 5, 6]\n",
        "even_numbers = list(filter(lambda x: x % 2 == 0, numbers))\n",
        "print(\"Even numbers:\", even_numbers)\n",
        "\n",
        "# Lambda function to sort numbers in descending order\n",
        "numbers.sort(key=lambda x: -x)\n",
        "print(\"Sorted numbers in descending order:\", numbers)"
      ],
      "metadata": {
        "id": "jelS9f69Phj5",
        "outputId": "beb7d596-26c4-445b-88c7-29e3b8e19890",
        "colab": {
          "base_uri": "https://localhost:8080/"
        }
      },
      "execution_count": 35,
      "outputs": [
        {
          "output_type": "stream",
          "name": "stdout",
          "text": [
            "Addition: 12\n",
            "Square: 16\n",
            "Even numbers: [2, 4, 6]\n",
            "Sorted numbers in descending order: [6, 5, 4, 3, 2, 1]\n"
          ]
        }
      ]
    }
  ],
  "metadata": {
    "colab": {
      "name": "Welcome To Colab",
      "provenance": [],
      "include_colab_link": true
    },
    "kernelspec": {
      "display_name": "Python 3",
      "name": "python3"
    }
  },
  "nbformat": 4,
  "nbformat_minor": 0
}