{
  "cells": [
    {
      "cell_type": "markdown",
      "metadata": {
        "id": "view-in-github",
        "colab_type": "text"
      },
      "source": [
        "<a href=\"https://colab.research.google.com/github/AbdulRashid29032006/Digital_portfolio/blob/main/If%20else.ipynb\" target=\"_parent\"><img src=\"https://colab.research.google.com/assets/colab-badge.svg\" alt=\"Open In Colab\"/></a>"
      ]
    },
    {
      "cell_type": "markdown",
      "source": [
        "if else"
      ],
      "metadata": {
        "id": "WOK6dNcGHkmW"
      }
    },
    {
      "cell_type": "code",
      "source": [
        "\n",
        "# Declare a variable\n",
        "age = 18\n",
        "\n",
        "# If-else statement\n",
        "if age >= 18:\n",
        "    print(\"You are an adult.\")\n",
        "else:\n",
        "    print(\"You are a minor.\")\n",
        "\n",
        "# If-elif-else statement\n",
        "if age < 13:\n",
        "    print(\"You are a kid.\")\n",
        "elif age < 18:\n",
        "    print(\"You are a teenager.\")\n",
        "else:\n",
        "    print(\"You are an adult.\")"
      ],
      "metadata": {
        "id": "mlLK8KzKHp4m",
        "outputId": "b0ab761a-87ad-4e08-8160-9bd2b8f577d5",
        "colab": {
          "base_uri": "https://localhost:8080/"
        }
      },
      "execution_count": 9,
      "outputs": [
        {
          "output_type": "stream",
          "name": "stdout",
          "text": [
            "You are an adult.\n",
            "You are an adult.\n"
          ]
        }
      ]
    }
  ],
  "metadata": {
    "colab": {
      "name": "Welcome To Colab",
      "provenance": [],
      "include_colab_link": true
    },
    "kernelspec": {
      "display_name": "Python 3",
      "name": "python3"
    }
  },
  "nbformat": 4,
  "nbformat_minor": 0
}