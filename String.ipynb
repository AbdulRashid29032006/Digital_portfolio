{
  "cells": [
    {
      "cell_type": "markdown",
      "metadata": {
        "id": "view-in-github",
        "colab_type": "text"
      },
      "source": [
        "<a href=\"https://colab.research.google.com/github/AbdulRashid29032006/Digital_portfolio/blob/main/String.ipynb\" target=\"_parent\"><img src=\"https://colab.research.google.com/assets/colab-badge.svg\" alt=\"Open In Colab\"/></a>"
      ]
    },
    {
      "cell_type": "markdown",
      "source": [
        "String"
      ],
      "metadata": {
        "id": "LuzjDhAcEfRJ"
      }
    },
    {
      "cell_type": "code",
      "source": [
        "\n",
        "# Declare integer variables\n",
        "a = 10\n",
        "b = 3\n",
        "\n",
        "# Arithmetic operations\n",
        "print(\"Addition:\", a + b)\n",
        "print(\"Subtraction:\", a - b)\n",
        "print(\"Multiplication:\", a * b)\n",
        "print(\"Division:\", a / b)\n",
        "print(\"Integer Division:\", a // b)\n",
        "print(\"Modulus:\", a % b)\n",
        "\n",
        "# Comparison operations\n",
        "print(\"Equal:\", a == b)\n",
        "print(\"Not Equal:\", a != b)\n",
        "print(\"Greater Than:\", a > b)\n",
        "print(\"Less Than:\", a < b)"
      ],
      "metadata": {
        "id": "KSTk1Sp0Ej2o",
        "outputId": "edf55133-e684-49da-b790-6ea456e42ea4",
        "colab": {
          "base_uri": "https://localhost:8080/"
        }
      },
      "execution_count": 1,
      "outputs": [
        {
          "output_type": "stream",
          "name": "stdout",
          "text": [
            "Addition: 13\n",
            "Subtraction: 7\n",
            "Multiplication: 30\n",
            "Division: 3.3333333333333335\n",
            "Integer Division: 3\n",
            "Modulus: 1\n",
            "Equal: False\n",
            "Not Equal: True\n",
            "Greater Than: True\n",
            "Less Than: False\n"
          ]
        }
      ]
    }
  ],
  "metadata": {
    "colab": {
      "name": "Welcome To Colab",
      "provenance": [],
      "include_colab_link": true
    },
    "kernelspec": {
      "display_name": "Python 3",
      "name": "python3"
    }
  },
  "nbformat": 4,
  "nbformat_minor": 0
}