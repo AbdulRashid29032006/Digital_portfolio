{
  "cells": [
    {
      "cell_type": "markdown",
      "metadata": {
        "id": "view-in-github",
        "colab_type": "text"
      },
      "source": [
        "<a href=\"https://colab.research.google.com/github/AbdulRashid29032006/Digital_portfolio/blob/main/String.ipynb\" target=\"_parent\"><img src=\"https://colab.research.google.com/assets/colab-badge.svg\" alt=\"Open In Colab\"/></a>"
      ]
    },
    {
      "cell_type": "markdown",
      "source": [
        "String"
      ],
      "metadata": {
        "id": "8py_oVUqF3dN"
      }
    },
    {
      "cell_type": "code",
      "source": [
        "\n",
        "# Declare a string variable\n",
        "name = \"John Doe\"\n",
        "\n",
        "# String operations\n",
        "print(\"Original String:\", name)\n",
        "print(\"Uppercase:\", name.upper())\n",
        "print(\"Lowercase:\", name.lower())\n",
        "print(\"Length:\", len(name))\n",
        "print(\"Substring:\", name[0:4])  # Extract \"John\"\n",
        "print(\"Concatenation:\", name + \" is a developer\")\n",
        "\n",
        "# String formatting\n",
        "age = 30\n",
        "print(f\"{name} is {age} years old.\")"
      ],
      "metadata": {
        "id": "YVNnhSPFF4yi",
        "outputId": "85ccd6bd-5306-48ac-f2bc-4b76a3924e43",
        "colab": {
          "base_uri": "https://localhost:8080/"
        }
      },
      "execution_count": 3,
      "outputs": [
        {
          "output_type": "stream",
          "name": "stdout",
          "text": [
            "Original String: John Doe\n",
            "Uppercase: JOHN DOE\n",
            "Lowercase: john doe\n",
            "Length: 8\n",
            "Substring: John\n",
            "Concatenation: John Doe is a developer\n",
            "John Doe is 30 years old.\n"
          ]
        }
      ]
    }
  ],
  "metadata": {
    "colab": {
      "name": "Welcome To Colab",
      "provenance": [],
      "include_colab_link": true
    },
    "kernelspec": {
      "display_name": "Python 3",
      "name": "python3"
    }
  },
  "nbformat": 4,
  "nbformat_minor": 0
}