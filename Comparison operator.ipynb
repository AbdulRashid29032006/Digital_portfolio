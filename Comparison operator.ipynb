{
  "cells": [
    {
      "cell_type": "markdown",
      "metadata": {
        "id": "view-in-github",
        "colab_type": "text"
      },
      "source": [
        "<a href=\"https://colab.research.google.com/github/AbdulRashid29032006/Digital_portfolio/blob/main/Comparison%20operator.ipynb\" target=\"_parent\"><img src=\"https://colab.research.google.com/assets/colab-badge.svg\" alt=\"Open In Colab\"/></a>"
      ]
    },
    {
      "cell_type": "markdown",
      "source": [
        "Comparison"
      ],
      "metadata": {
        "id": "MU1DSbzZJ2vE"
      }
    },
    {
      "cell_type": "code",
      "source": [
        "\n",
        "# Declare variables\n",
        "A = 40\n",
        "B = 20\n",
        "\n",
        "# Comparison operators\n",
        "print(\"A == B (Equal):\", A == B)\n",
        "print(\"A != B (Not Equal):\", A != B)\n",
        "print(\"A > B (Greater Than):\", A > B)\n",
        "print(\"A < B (Less Than):\", A < B)\n",
        "print(\"A >= B (Greater Than or Equal):\", A >= B)\n",
        "print(\"A <= B (Less Than or Equal):\", A <= B)"
      ],
      "metadata": {
        "id": "wjOmpxOeJ7RO",
        "outputId": "bac13bdc-8199-4171-dae6-6ee0c1934397",
        "colab": {
          "base_uri": "https://localhost:8080/"
        }
      },
      "execution_count": 19,
      "outputs": [
        {
          "output_type": "stream",
          "name": "stdout",
          "text": [
            "A == B (Equal): False\n",
            "A != B (Not Equal): True\n",
            "A > B (Greater Than): True\n",
            "A < B (Less Than): False\n",
            "A >= B (Greater Than or Equal): True\n",
            "A <= B (Less Than or Equal): False\n"
          ]
        }
      ]
    }
  ],
  "metadata": {
    "colab": {
      "name": "Welcome To Colab",
      "provenance": [],
      "include_colab_link": true
    },
    "kernelspec": {
      "display_name": "Python 3",
      "name": "python3"
    }
  },
  "nbformat": 4,
  "nbformat_minor": 0
}